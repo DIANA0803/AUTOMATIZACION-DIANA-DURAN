{
  "nbformat": 4,
  "nbformat_minor": 0,
  "metadata": {
    "colab": {
      "name": "Te damos la bienvenida a Colaboratory",
      "provenance": [],
      "collapsed_sections": [],
      "toc_visible": true,
      "include_colab_link": true
    },
    "kernelspec": {
      "display_name": "Python 3",
      "name": "python3"
    }
  },
  "cells": [
    {
      "cell_type": "markdown",
      "metadata": {
        "id": "view-in-github",
        "colab_type": "text"
      },
      "source": [
        "<a href=\"https://colab.research.google.com/github/DIANA0803/AUTOMATIZACION-DIANA-DURAN/blob/main/%20P2-T2-AID-Ejercicios%20Funciones%20en%20python.ipynb\" target=\"_parent\"><img src=\"https://colab.research.google.com/assets/colab-badge.svg\" alt=\"Open In Colab\"/></a>"
      ]
    },
    {
      "cell_type": "code",
      "metadata": {
        "colab": {
          "base_uri": "https://localhost:8080/"
        },
        "id": "Cy89DXeucKMc",
        "outputId": "b1c9d440-0cfa-4e9d-bac7-2fe29590d666"
      },
      "source": [
        "#Ejercicio_1\n",
        "#Escribir una función que calcule el total de una factura tras aplicarle el IVA. \n",
        "#La función debe recibir la cantidad sin IVA y el porcentaje de IVA a aplicar, y devolver el total de la factura. \n",
        "#Si se invoca la función sin pasarle el porcentaje de IVA, deberá aplicar un 21%.\n",
        "\n",
        "def funcion(cantidad_sin_iva, porcentaje_de_iva=21):\n",
        "    \n",
        "    return cantidad_sin_iva + cantidad_sin_iva*porcentaje_de_iva/100\n",
        "\n",
        "print(funcion(1000,10))\n",
        "print(funcion(1000))"
      ],
      "execution_count": 1,
      "outputs": [
        {
          "output_type": "stream",
          "text": [
            "1100.0\n",
            "1210.0\n"
          ],
          "name": "stdout"
        }
      ]
    },
    {
      "cell_type": "code",
      "metadata": {
        "colab": {
          "base_uri": "https://localhost:8080/"
        },
        "id": "Ab493jTicOPS",
        "outputId": "7d18c1e1-4154-4ad0-9b29-6fed1f5fa0b3"
      },
      "source": [
        "#Ejercicio_2\n",
        "\n",
        "#Escribir una función que calcule el área de un círculo\n",
        "#y otra que calcule el volumen de un cilindro usando la primera función.\n",
        "\n",
        "def area_circulo(radio):\n",
        "   \n",
        "    formula_pi = 3.1416\n",
        "    return formula_pi*radio**2\n",
        "\n",
        "def volumen_cilindro(radio, altura_cilindro):\n",
        "   \n",
        "    return area_circulo(radio)*altura_cilindro\n",
        "\n",
        "print(volumen_cilindro(3,5))"
      ],
      "execution_count": 2,
      "outputs": [
        {
          "output_type": "stream",
          "text": [
            "141.372\n"
          ],
          "name": "stdout"
        }
      ]
    },
    {
      "cell_type": "code",
      "metadata": {
        "id": "apboMNjPcPlF"
      },
      "source": [
        ""
      ],
      "execution_count": null,
      "outputs": []
    },
    {
      "cell_type": "code",
      "metadata": {
        "colab": {
          "base_uri": "https://localhost:8080/"
        },
        "id": "jf2031aYcPsg",
        "outputId": "fcaecb8f-10a1-4f5c-84f9-1966865a6b96"
      },
      "source": [
        "#Ejercicio_3\n",
        "\n",
        "#Escribir una función que reciba una muestra de números en una lista y devuelva su media.\n",
        "\n",
        "def numeros(lista_numeros):\n",
        "    \n",
        "    return sum(lista_numeros)/len(lista_numeros)\n",
        "\n",
        "print(numeros([1, 2, 3, 4, 5]))\n",
        "print(numeros([2.3, 5.7, 6.8, 9.7, 12.1, 15.6]))"
      ],
      "execution_count": 3,
      "outputs": [
        {
          "output_type": "stream",
          "text": [
            "3.0\n",
            "8.700000000000001\n"
          ],
          "name": "stdout"
        }
      ]
    },
    {
      "cell_type": "code",
      "metadata": {
        "colab": {
          "base_uri": "https://localhost:8080/"
        },
        "id": "ejjbt9_rcVlL",
        "outputId": "b0220e9b-392f-4f43-dd9b-6780f7b158e2"
      },
      "source": [
        "#Ejercicio_4\n",
        "\n",
        "#Escribir una función que reciba una muestra de números en una lista y devuelva otra lista con sus cuadrados.\n",
        "\n",
        "def numeros(lista_numeros):\n",
        "   \n",
        "    list = []\n",
        "    for i in lista_numeros:\n",
        "        list.append(i**2)\n",
        "    return list\n",
        "\n",
        "print(numeros([1, 2, 3, 4, 5]))\n",
        "print(numeros([2.3, 5.7, 6.8, 9.7, 12.1, 15.6]))"
      ],
      "execution_count": 4,
      "outputs": [
        {
          "output_type": "stream",
          "text": [
            "[1, 4, 9, 16, 25]\n",
            "[5.289999999999999, 32.49, 46.239999999999995, 94.08999999999999, 146.41, 243.35999999999999]\n"
          ],
          "name": "stdout"
        }
      ]
    },
    {
      "cell_type": "code",
      "metadata": {
        "colab": {
          "base_uri": "https://localhost:8080/"
        },
        "id": "BF7MJfZ6cV8j",
        "outputId": "03c7d9be-d58b-498d-96d1-7b4078c009d7"
      },
      "source": [
        "#Ejercicio_5\n",
        "\n",
        "#Escribir una función que reciba una muestra de números en una lista y devuelva un diccionario con su media, varianza y desviación típica.\n",
        "\n",
        "def numeros(lista_numeros):\n",
        "   \n",
        "    list = []\n",
        "    for i in lista_numeros:\n",
        "        list.append(i**2)\n",
        "    return list\n",
        "\n",
        "def diccionario(lista_numeros):\n",
        "   \n",
        "    stat = {}\n",
        "    stat['media'] = sum(lista_numeros)/len(lista_numeros)\n",
        "    stat['varianza'] = sum(numeros(lista_numeros))/len(lista_numeros)-stat['media']**2\n",
        "    stat['desviacion tipica'] = stat['varianza']**0.5\n",
        "    return stat\n",
        "\n",
        "print(diccionario([1, 2, 3, 4, 5]))\n",
        "print(diccionario([2.3, 5.7, 6.8, 9.7, 12.1, 15.6]))"
      ],
      "execution_count": 5,
      "outputs": [
        {
          "output_type": "stream",
          "text": [
            "{'media': 3.0, 'varianza': 2.0, 'desviacion tipica': 1.4142135623730951}\n",
            "{'media': 8.700000000000001, 'varianza': 18.95666666666665, 'desviacion tipica': 4.353925431913901}\n"
          ],
          "name": "stdout"
        }
      ]
    },
    {
      "cell_type": "code",
      "metadata": {
        "colab": {
          "base_uri": "https://localhost:8080/"
        },
        "id": "kx9kddM0caJS",
        "outputId": "fb578a3e-764a-4c6c-8019-65dba29b8617"
      },
      "source": [
        "#Ejercicio_6\n",
        "\n",
        "#Escribir una función que calcule el máximo común divisor de dos números y otra que calcule el mínimo común múltiplo.\n",
        "\n",
        "def maximo(j, k):\n",
        "   \n",
        "    rest = 0\n",
        "    while(k > 0):\n",
        "        rest = k\n",
        "        k = j % k\n",
        "        j = rest\n",
        "    return j\n",
        "\n",
        "def minimo(j, k):\n",
        " \n",
        "    if j > k:\n",
        "        greater = j\n",
        "    else:\n",
        "        greater = k\n",
        "    while (greater % j != 0) or (greater % k != 0):\n",
        "        greater += 1\n",
        "    return greater\n",
        "\n",
        "print(maximo(24,36))\n",
        "print(minimo(24,36))"
      ],
      "execution_count": 6,
      "outputs": [
        {
          "output_type": "stream",
          "text": [
            "12\n",
            "72\n"
          ],
          "name": "stdout"
        }
      ]
    },
    {
      "cell_type": "code",
      "metadata": {
        "colab": {
          "base_uri": "https://localhost:8080/"
        },
        "id": "M84_YDj_cdC3",
        "outputId": "3b75d3a9-0578-4636-dd15-9d1c3cc97f57"
      },
      "source": [
        "#Ejercicio_7\n",
        "\n",
        "#Escribir una función que convierta un número decimal en binario y otra que convierta un número binario en decimal.\n",
        "\n",
        "def numero_decimal(j):\n",
        "  \n",
        "    j = list(j)\n",
        "    j.reverse()\n",
        "    decimal = 0\n",
        "    for i in range(len(j)):\n",
        "        decimal += int(j[i]) * 2 ** i\n",
        "    return decimal\n",
        "\n",
        "def numero_binario(j):\n",
        "  \n",
        "    binary = []\n",
        "    while j > 0:\n",
        "        binary.append(str(j % 2))\n",
        "        j //= 2\n",
        "    binary.reverse()\n",
        "    return ''.join(binary)\n",
        "\n",
        "print(numero_decimal('10110'))\n",
        "print(numero_binario(22))\n",
        "print(numero_decimal(numero_binario(22)))\n",
        "print(numero_binario(numero_decimal('10110')))"
      ],
      "execution_count": 7,
      "outputs": [
        {
          "output_type": "stream",
          "text": [
            "22\n",
            "10110\n",
            "22\n",
            "10110\n"
          ],
          "name": "stdout"
        }
      ]
    },
    {
      "cell_type": "code",
      "metadata": {
        "colab": {
          "base_uri": "https://localhost:8080/"
        },
        "id": "WhzQwhsEcgRc",
        "outputId": "e29a21ce-781a-4636-fd31-5dab43bf452d"
      },
      "source": [
        "#Ejercicio_8\n",
        "\n",
        "#Escribir un programa que reciba una cadena de caracteres y devuelva un diccionario con cada palabra que contiene y su frecuencia. \n",
        "#Escribir otra función que reciba el diccionario generado con la función anterior y\n",
        "# devuelva una tupla con la palabra más repetida y su frecuencia.\n",
        "\n",
        "\n",
        "def contador_de_palabras(mensaje):\n",
        "  \n",
        "    mensaje = mensaje.split()\n",
        "    palabras = {}\n",
        "    for i in mensaje:\n",
        "        if i in palabras:\n",
        "            palabras[i] += 1\n",
        "        else:\n",
        "            palabras[i] = 1\n",
        "    return palabras\n",
        "\n",
        "def mas_repetida(palabras):\n",
        "    maximo_palabras = ''\n",
        "    maximo_frecuencia = 0\n",
        "    for palabras, frecuencia in palabras.items():\n",
        "        if frecuencia > maximo_frecuencia:\n",
        "            maximo_palabras = palabras\n",
        "            maximo_frecuencia = frecuencia\n",
        "    return maximo_palabras, maximo_frecuencia\n",
        "\n",
        "mensaje = 'A las ocho de la mañana la mamá de Laura ya se ha tomado su café con tostadas. Es hora de despertar a su hija o se hará tarde. Casi a oscuras, se acerca a la pequeña cama de madera y busca su carita bajo el edredón para darle un beso de buenos días'\n",
        "print(contador_de_palabras(mensaje))\n",
        "print(mas_repetida(contador_de_palabras(mensaje)))"
      ],
      "execution_count": 9,
      "outputs": [
        {
          "output_type": "stream",
          "text": [
            "{'A': 1, 'las': 1, 'ocho': 1, 'de': 5, 'la': 3, 'mañana': 1, 'mamá': 1, 'Laura': 1, 'ya': 1, 'se': 3, 'ha': 1, 'tomado': 1, 'su': 3, 'café': 1, 'con': 1, 'tostadas.': 1, 'Es': 1, 'hora': 1, 'despertar': 1, 'a': 3, 'hija': 1, 'o': 1, 'hará': 1, 'tarde.': 1, 'Casi': 1, 'oscuras,': 1, 'acerca': 1, 'pequeña': 1, 'cama': 1, 'madera': 1, 'y': 1, 'busca': 1, 'carita': 1, 'bajo': 1, 'el': 1, 'edredón': 1, 'para': 1, 'darle': 1, 'un': 1, 'beso': 1, 'buenos': 1, 'días': 1}\n",
            "('de', 5)\n"
          ],
          "name": "stdout"
        }
      ]
    }
  ]
}