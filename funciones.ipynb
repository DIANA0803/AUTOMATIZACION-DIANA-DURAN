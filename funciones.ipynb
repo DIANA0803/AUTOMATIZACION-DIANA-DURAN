#Declaracion de Funciones

#Funcion sin parametros
def funcion1 ():
    #Contenido de la funcion
    print ('Haz llamado a la funcion 1')


#Funcion con parametros y retorno
def funcion2 (a,b):
    #Contenido de la funcion
    #Esto realiza la suma de esta función
    c= int (a) + int (b)
    return c



#Llamamos las funciones declaradas en otro archivo
from FuncionesExternas import *

#Invocamos las funciones
funcion1()
#Invocamos la otra funcion
Q = input ('Introduzca un dato: ')
W = input ('Introduzca otro dato: ')
print(funcion2 (Q, W) )
