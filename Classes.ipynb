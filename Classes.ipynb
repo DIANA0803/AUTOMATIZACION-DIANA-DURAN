{
  "nbformat": 4,
  "nbformat_minor": 0,
  "metadata": {
    "colab": {
      "name": "Copia de Te damos la bienvenida a Colaboratory",
      "provenance": [],
      "collapsed_sections": [],
      "include_colab_link": true
    },
    "kernelspec": {
      "display_name": "Python 3",
      "name": "python3"
    }
  },
  "cells": [
    {
      "cell_type": "markdown",
      "metadata": {
        "id": "view-in-github",
        "colab_type": "text"
      },
      "source": [
        "<a href=\"https://colab.research.google.com/github/DIANA0803/AUTOMATIZACION-DIANA-DURAN/blob/main/Classes.ipynb\" target=\"_parent\"><img src=\"https://colab.research.google.com/assets/colab-badge.svg\" alt=\"Open In Colab\"/></a>"
      ]
    },
    {
      "cell_type": "code",
      "metadata": {
        "id": "q8eyMkBQrfJY"
      },
      "source": [
        "class Clase:\n",
        "    def _init_(self, numero, palabra):\n",
        "        self.numero =numero\n",
        "        self.palabra =palabra\n",
        "        self.a =numero**2\n",
        "        self.b =numero**3\n",
        "        self.c =999\n",
        "    def imprimir(self):\n",
        "        print(\"Hola yo soy {0}\".format(self.palabra))\n",
        "    def dime_datos(self):\n",
        "        print(\"Con x=%i obtenemos: a=%i, b=%i, c=%i\" % (self.numero, self.a, self.b, self.c))\n",
        "        "
      ],
      "execution_count": 2,
      "outputs": []
    },
    {
      "cell_type": "code",
      "metadata": {
        "id": "HEJa8NR5s8b_"
      },
      "source": [
        "from Classes import Clase\n",
        "a=Clase(8, \"Camilo\")\n",
        "a.imprimir()\n",
        "a.dime_datos()"
      ],
      "execution_count": null,
      "outputs": []
    },
    {
      "cell_type": "code",
      "metadata": {
        "colab": {
          "base_uri": "https://localhost:8080/",
          "height": 248
        },
        "id": "P324GCMtt8QG",
        "outputId": "3826c6c2-21e7-4cee-e4d1-1ea204f0885c"
      },
      "source": [
        "class ClaseA:\n",
        "    def _init_(self, x):\n",
        "        self.a = x\n",
        "        self.b = 2 * x\n",
        "    def muestra(self):\n",
        "        print (\"a=%i, b=%i\" % (self.a, self.b))\n",
        "class ClaseB(ClaseA):\n",
        "    def _init_(self, x, y):\n",
        "       ClaseA._init_(self, x)\n",
        "       self.c = 3 * (x + y) + self.b\n",
        "    def muestra(self):\n",
        "       print (\"a=%i, b=%i, c=%i\" % (self.a, self.b, self.c))\n",
        "print (\"Objeto A\")\n",
        "a = ClaseA(2)\n",
        "print (a._dict_)\n",
        "a.muestra()\n",
        "\n",
        "print (\"ObjetoB\")\n",
        "b = ClaseB(2, 3)\n",
        "print (b._dict_)\n",
        "b.muestra()"
      ],
      "execution_count": null,
      "outputs": [
        {
          "output_type": "stream",
          "text": [
            "Objeto A\n"
          ],
          "name": "stdout"
        },
        {
          "output_type": "error",
          "ename": "TypeError",
          "evalue": "ignored",
          "traceback": [
            "\u001b[0;31m---------------------------------------------------------------------------\u001b[0m",
            "\u001b[0;31mTypeError\u001b[0m                                 Traceback (most recent call last)",
            "\u001b[0;32m<ipython-input-28-bea21440b4d0>\u001b[0m in \u001b[0;36m<module>\u001b[0;34m()\u001b[0m\n\u001b[1;32m     12\u001b[0m        \u001b[0mprint\u001b[0m \u001b[0;34m(\u001b[0m\u001b[0;34m\"a=%i, b=%i, c=%i\"\u001b[0m \u001b[0;34m%\u001b[0m \u001b[0;34m(\u001b[0m\u001b[0mself\u001b[0m\u001b[0;34m.\u001b[0m\u001b[0ma\u001b[0m\u001b[0;34m,\u001b[0m \u001b[0mself\u001b[0m\u001b[0;34m.\u001b[0m\u001b[0mb\u001b[0m\u001b[0;34m,\u001b[0m \u001b[0mself\u001b[0m\u001b[0;34m.\u001b[0m\u001b[0mc\u001b[0m\u001b[0;34m)\u001b[0m\u001b[0;34m)\u001b[0m\u001b[0;34m\u001b[0m\u001b[0;34m\u001b[0m\u001b[0m\n\u001b[1;32m     13\u001b[0m \u001b[0mprint\u001b[0m \u001b[0;34m(\u001b[0m\u001b[0;34m\"Objeto A\"\u001b[0m\u001b[0;34m)\u001b[0m\u001b[0;34m\u001b[0m\u001b[0;34m\u001b[0m\u001b[0m\n\u001b[0;32m---> 14\u001b[0;31m \u001b[0ma\u001b[0m \u001b[0;34m=\u001b[0m \u001b[0mClaseA\u001b[0m\u001b[0;34m(\u001b[0m\u001b[0;36m2\u001b[0m\u001b[0;34m)\u001b[0m\u001b[0;34m\u001b[0m\u001b[0;34m\u001b[0m\u001b[0m\n\u001b[0m\u001b[1;32m     15\u001b[0m \u001b[0mprint\u001b[0m \u001b[0;34m(\u001b[0m\u001b[0ma\u001b[0m\u001b[0;34m.\u001b[0m\u001b[0m_dict_\u001b[0m\u001b[0;34m)\u001b[0m\u001b[0;34m\u001b[0m\u001b[0;34m\u001b[0m\u001b[0m\n\u001b[1;32m     16\u001b[0m \u001b[0ma\u001b[0m\u001b[0;34m.\u001b[0m\u001b[0mmuestra\u001b[0m\u001b[0;34m(\u001b[0m\u001b[0;34m)\u001b[0m\u001b[0;34m\u001b[0m\u001b[0;34m\u001b[0m\u001b[0m\n",
            "\u001b[0;31mTypeError\u001b[0m: ClaseA() takes no arguments"
          ]
        }
      ]
    }
  ]
}