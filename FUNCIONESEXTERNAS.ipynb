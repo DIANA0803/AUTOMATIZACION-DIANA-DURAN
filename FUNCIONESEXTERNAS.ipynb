#DECLARACIÓN DE FUNCIONES
#FUNCIONES SIN PARAMETROS

def funcion1 ():
 #CONTENIDO DE LA FUNCIÓN
 print ('HAS LLAMADO DE LA FUNCION 1')
  
  #FUNCIONES CON PARAMETROS Y RETORNO
  def funcion2 (a,b):
    #CONTENIDO DE LA FUNCION
    c=int(a)+int(b)
    return c
   
   
   from FUNCIONESEXTERNAS import

funcion1()

Q=input ('INTRODUZCA UN RATO:')
W= input ('INTRODUZCA OTRO DATO:')
print(funcion2(W,Q)


